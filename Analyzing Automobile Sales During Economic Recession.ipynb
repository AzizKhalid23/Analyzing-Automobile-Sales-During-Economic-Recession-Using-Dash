{
 "cells": [
  {
   "cell_type": "code",
   "execution_count": 1,
   "id": "95098eac-e158-49c2-9056-95f76ee1b1a5",
   "metadata": {},
   "outputs": [
    {
     "name": "stdout",
     "output_type": "stream",
     "text": [
      "Collecting dash\n",
      "  Downloading dash-3.1.1-py3-none-any.whl.metadata (10 kB)\n",
      "Collecting jupyter-dash\n",
      "  Downloading jupyter_dash-0.4.2-py3-none-any.whl.metadata (3.6 kB)\n",
      "Requirement already satisfied: plotly in /opt/anaconda3/lib/python3.12/site-packages (5.24.1)\n",
      "Requirement already satisfied: pandas in /opt/anaconda3/lib/python3.12/site-packages (2.2.2)\n",
      "Requirement already satisfied: Flask<3.2,>=1.0.4 in /opt/anaconda3/lib/python3.12/site-packages (from dash) (3.0.3)\n",
      "Requirement already satisfied: Werkzeug<3.2 in /opt/anaconda3/lib/python3.12/site-packages (from dash) (3.0.3)\n",
      "Requirement already satisfied: importlib-metadata in /opt/anaconda3/lib/python3.12/site-packages (from dash) (7.0.1)\n",
      "Requirement already satisfied: typing-extensions>=4.1.1 in /opt/anaconda3/lib/python3.12/site-packages (from dash) (4.11.0)\n",
      "Requirement already satisfied: requests in /opt/anaconda3/lib/python3.12/site-packages (from dash) (2.32.3)\n",
      "Collecting retrying (from dash)\n",
      "  Downloading retrying-1.4.0-py3-none-any.whl.metadata (7.5 kB)\n",
      "Requirement already satisfied: nest-asyncio in /opt/anaconda3/lib/python3.12/site-packages (from dash) (1.6.0)\n",
      "Requirement already satisfied: setuptools in /opt/anaconda3/lib/python3.12/site-packages (from dash) (75.1.0)\n",
      "Requirement already satisfied: ipython in /opt/anaconda3/lib/python3.12/site-packages (from jupyter-dash) (8.27.0)\n",
      "Requirement already satisfied: ipykernel in /opt/anaconda3/lib/python3.12/site-packages (from jupyter-dash) (6.28.0)\n",
      "Collecting ansi2html (from jupyter-dash)\n",
      "  Downloading ansi2html-1.9.2-py3-none-any.whl.metadata (3.7 kB)\n",
      "Requirement already satisfied: tenacity>=6.2.0 in /opt/anaconda3/lib/python3.12/site-packages (from plotly) (8.2.3)\n",
      "Requirement already satisfied: packaging in /opt/anaconda3/lib/python3.12/site-packages (from plotly) (24.1)\n",
      "Requirement already satisfied: numpy>=1.26.0 in /opt/anaconda3/lib/python3.12/site-packages (from pandas) (1.26.4)\n",
      "Requirement already satisfied: python-dateutil>=2.8.2 in /opt/anaconda3/lib/python3.12/site-packages (from pandas) (2.9.0.post0)\n",
      "Requirement already satisfied: pytz>=2020.1 in /opt/anaconda3/lib/python3.12/site-packages (from pandas) (2024.1)\n",
      "Requirement already satisfied: tzdata>=2022.7 in /opt/anaconda3/lib/python3.12/site-packages (from pandas) (2023.3)\n",
      "Requirement already satisfied: Jinja2>=3.1.2 in /opt/anaconda3/lib/python3.12/site-packages (from Flask<3.2,>=1.0.4->dash) (3.1.4)\n",
      "Requirement already satisfied: itsdangerous>=2.1.2 in /opt/anaconda3/lib/python3.12/site-packages (from Flask<3.2,>=1.0.4->dash) (2.2.0)\n",
      "Requirement already satisfied: click>=8.1.3 in /opt/anaconda3/lib/python3.12/site-packages (from Flask<3.2,>=1.0.4->dash) (8.1.7)\n",
      "Requirement already satisfied: blinker>=1.6.2 in /opt/anaconda3/lib/python3.12/site-packages (from Flask<3.2,>=1.0.4->dash) (1.6.2)\n",
      "Requirement already satisfied: six>=1.5 in /opt/anaconda3/lib/python3.12/site-packages (from python-dateutil>=2.8.2->pandas) (1.16.0)\n",
      "Requirement already satisfied: MarkupSafe>=2.1.1 in /opt/anaconda3/lib/python3.12/site-packages (from Werkzeug<3.2->dash) (2.1.3)\n",
      "Requirement already satisfied: zipp>=0.5 in /opt/anaconda3/lib/python3.12/site-packages (from importlib-metadata->dash) (3.17.0)\n",
      "Requirement already satisfied: appnope in /opt/anaconda3/lib/python3.12/site-packages (from ipykernel->jupyter-dash) (0.1.3)\n",
      "Requirement already satisfied: comm>=0.1.1 in /opt/anaconda3/lib/python3.12/site-packages (from ipykernel->jupyter-dash) (0.2.1)\n",
      "Requirement already satisfied: debugpy>=1.6.5 in /opt/anaconda3/lib/python3.12/site-packages (from ipykernel->jupyter-dash) (1.6.7)\n",
      "Requirement already satisfied: jupyter-client>=6.1.12 in /opt/anaconda3/lib/python3.12/site-packages (from ipykernel->jupyter-dash) (8.6.0)\n",
      "Requirement already satisfied: jupyter-core!=5.0.*,>=4.12 in /opt/anaconda3/lib/python3.12/site-packages (from ipykernel->jupyter-dash) (5.7.2)\n",
      "Requirement already satisfied: matplotlib-inline>=0.1 in /opt/anaconda3/lib/python3.12/site-packages (from ipykernel->jupyter-dash) (0.1.6)\n",
      "Requirement already satisfied: psutil in /opt/anaconda3/lib/python3.12/site-packages (from ipykernel->jupyter-dash) (5.9.0)\n",
      "Requirement already satisfied: pyzmq>=24 in /opt/anaconda3/lib/python3.12/site-packages (from ipykernel->jupyter-dash) (25.1.2)\n",
      "Requirement already satisfied: tornado>=6.1 in /opt/anaconda3/lib/python3.12/site-packages (from ipykernel->jupyter-dash) (6.4.1)\n",
      "Requirement already satisfied: traitlets>=5.4.0 in /opt/anaconda3/lib/python3.12/site-packages (from ipykernel->jupyter-dash) (5.14.3)\n",
      "Requirement already satisfied: decorator in /opt/anaconda3/lib/python3.12/site-packages (from ipython->jupyter-dash) (5.1.1)\n",
      "Requirement already satisfied: jedi>=0.16 in /opt/anaconda3/lib/python3.12/site-packages (from ipython->jupyter-dash) (0.19.1)\n",
      "Requirement already satisfied: prompt-toolkit<3.1.0,>=3.0.41 in /opt/anaconda3/lib/python3.12/site-packages (from ipython->jupyter-dash) (3.0.43)\n",
      "Requirement already satisfied: pygments>=2.4.0 in /opt/anaconda3/lib/python3.12/site-packages (from ipython->jupyter-dash) (2.15.1)\n",
      "Requirement already satisfied: stack-data in /opt/anaconda3/lib/python3.12/site-packages (from ipython->jupyter-dash) (0.2.0)\n",
      "Requirement already satisfied: pexpect>4.3 in /opt/anaconda3/lib/python3.12/site-packages (from ipython->jupyter-dash) (4.8.0)\n",
      "Requirement already satisfied: charset-normalizer<4,>=2 in /opt/anaconda3/lib/python3.12/site-packages (from requests->dash) (3.3.2)\n",
      "Requirement already satisfied: idna<4,>=2.5 in /opt/anaconda3/lib/python3.12/site-packages (from requests->dash) (3.7)\n",
      "Requirement already satisfied: urllib3<3,>=1.21.1 in /opt/anaconda3/lib/python3.12/site-packages (from requests->dash) (2.2.3)\n",
      "Requirement already satisfied: certifi>=2017.4.17 in /opt/anaconda3/lib/python3.12/site-packages (from requests->dash) (2024.8.30)\n",
      "Requirement already satisfied: parso<0.9.0,>=0.8.3 in /opt/anaconda3/lib/python3.12/site-packages (from jedi>=0.16->ipython->jupyter-dash) (0.8.3)\n",
      "Requirement already satisfied: platformdirs>=2.5 in /opt/anaconda3/lib/python3.12/site-packages (from jupyter-core!=5.0.*,>=4.12->ipykernel->jupyter-dash) (3.10.0)\n",
      "Requirement already satisfied: ptyprocess>=0.5 in /opt/anaconda3/lib/python3.12/site-packages (from pexpect>4.3->ipython->jupyter-dash) (0.7.0)\n",
      "Requirement already satisfied: wcwidth in /opt/anaconda3/lib/python3.12/site-packages (from prompt-toolkit<3.1.0,>=3.0.41->ipython->jupyter-dash) (0.2.5)\n",
      "Requirement already satisfied: executing in /opt/anaconda3/lib/python3.12/site-packages (from stack-data->ipython->jupyter-dash) (0.8.3)\n",
      "Requirement already satisfied: asttokens in /opt/anaconda3/lib/python3.12/site-packages (from stack-data->ipython->jupyter-dash) (2.0.5)\n",
      "Requirement already satisfied: pure-eval in /opt/anaconda3/lib/python3.12/site-packages (from stack-data->ipython->jupyter-dash) (0.2.2)\n",
      "Downloading dash-3.1.1-py3-none-any.whl (7.9 MB)\n",
      "\u001b[2K   \u001b[90m━━━━━━━━━━━━━━━━━━━━━━━━━━━━━━━━━━━━━━━━\u001b[0m \u001b[32m7.9/7.9 MB\u001b[0m \u001b[31m9.8 MB/s\u001b[0m eta \u001b[36m0:00:00\u001b[0ma \u001b[36m0:00:01\u001b[0m\n",
      "\u001b[?25hDownloading jupyter_dash-0.4.2-py3-none-any.whl (23 kB)\n",
      "Downloading ansi2html-1.9.2-py3-none-any.whl (17 kB)\n",
      "Downloading retrying-1.4.0-py3-none-any.whl (11 kB)\n",
      "Installing collected packages: retrying, ansi2html, dash, jupyter-dash\n",
      "Successfully installed ansi2html-1.9.2 dash-3.1.1 jupyter-dash-0.4.2 retrying-1.4.0\n"
     ]
    }
   ],
   "source": [
    "!pip install dash jupyter-dash plotly pandas"
   ]
  },
  {
   "cell_type": "code",
   "execution_count": 8,
   "id": "2c9601bc-598c-40af-a386-0972c46ab102",
   "metadata": {},
   "outputs": [],
   "source": [
    "import pandas as pd\n",
    "import dash\n",
    "from dash import dcc, html\n",
    "from dash.dependencies import Input, Output\n",
    "import plotly.express as px"
   ]
  },
  {
   "cell_type": "code",
   "execution_count": 3,
   "id": "f63453cf-2aeb-491a-b0e7-bd4d431f54c9",
   "metadata": {},
   "outputs": [],
   "source": [
    "df = pd.read_csv(\"https://cf-courses-data.s3.us.cloud-object-storage.appdomain.cloud/IBMDeveloperSkillsNetwork-DV0101EN-SkillsNetwork/Data%20Files/historical_automobile_sales.csv\")\n",
    "df['Date'] = pd.to_datetime(df['Date'])\n",
    "df['Year'] = df['Date'].dt.year\n",
    "df['Month'] = df['Date'].dt.month_name()"
   ]
  },
  {
   "cell_type": "code",
   "execution_count": 9,
   "id": "19e63bf6-ea9c-4d5a-a5a7-043be2609737",
   "metadata": {},
   "outputs": [],
   "source": [
    "app = dash.Dash(__name__)\n",
    "app.title = \"XYZAutomotives Dashboard\"\n",
    "\n",
    "app.layout = html.Div([\n",
    "    html.H1(\"XYZAutomotives Sales Dashboard\", style={'textAlign': 'center'}),\n",
    "\n",
    "    html.Div([\n",
    "        html.Div([\n",
    "            html.Label(\"Select Report Type\"),\n",
    "            dcc.Dropdown(\n",
    "                id='report-dropdown',\n",
    "                options=[\n",
    "                    {'label': 'Yearly Statistics', 'value': 'yearly'},\n",
    "                    {'label': 'Recession Period Statistics', 'value': 'recession'}\n",
    "                ],\n",
    "                value='yearly'\n",
    "            )\n",
    "        ], style={'width': '45%', 'display': 'inline-block', 'padding': '10px'}),\n",
    "\n",
    "        html.Div([\n",
    "            html.Label(\"Select Year\"),\n",
    "            dcc.Dropdown(\n",
    "                id='year-dropdown',\n",
    "                options=[{'label': y, 'value': y} for y in sorted(df['Year'].unique())],\n",
    "                value=df['Year'].min()\n",
    "            )\n",
    "        ], style={'width': '45%', 'display': 'inline-block', 'padding': '10px'}),\n",
    "    ]),\n",
    "\n",
    "    html.Div([\n",
    "        html.Div([dcc.Graph(id='plot1')], style={'width': '48%', 'display': 'inline-block'}),\n",
    "        html.Div([dcc.Graph(id='plot2')], style={'width': '48%', 'display': 'inline-block'}),\n",
    "    ]),\n",
    "    html.Div([\n",
    "        html.Div([dcc.Graph(id='plot3')], style={'width': '48%', 'display': 'inline-block'}),\n",
    "        html.Div([dcc.Graph(id='plot4')], style={'width': '48%', 'display': 'inline-block'}),\n",
    "    ])\n",
    "])\n"
   ]
  },
  {
   "cell_type": "code",
   "execution_count": 10,
   "id": "0c06a37c-d2ed-4b43-8251-051c72a857c1",
   "metadata": {},
   "outputs": [],
   "source": [
    "@app.callback(\n",
    "    Output('year-dropdown', 'disabled'),\n",
    "    Input('report-dropdown', 'value')\n",
    ")\n",
    "def toggle_year_dropdown(report_type):\n",
    "    return report_type != 'yearly'\n"
   ]
  },
  {
   "cell_type": "code",
   "execution_count": 11,
   "id": "0bcd1eb2-1a78-4371-897d-00bd80929fe0",
   "metadata": {},
   "outputs": [],
   "source": [
    "@app.callback(\n",
    "    [Output('plot1', 'figure'),\n",
    "     Output('plot2', 'figure'),\n",
    "     Output('plot3', 'figure'),\n",
    "     Output('plot4', 'figure')],\n",
    "    [Input('report-dropdown', 'value'),\n",
    "     Input('year-dropdown', 'value')]\n",
    ")\n",
    "def update_graphs(report_type, selected_year):\n",
    "    if report_type == 'yearly':\n",
    "        df_year = df[df['Year'] == selected_year]\n",
    "\n",
    "        fig1 = px.line(df.groupby(\"Year\")[\"Automobile_Sales\"].mean().reset_index(),\n",
    "                       x=\"Year\", y=\"Automobile_Sales\", title=\"Avg Sales by Year\")\n",
    "\n",
    "        fig2 = px.line(df_year.groupby(\"Month\")[\"Automobile_Sales\"].sum().reset_index(),\n",
    "                       x=\"Month\", y=\"Automobile_Sales\", title=f\"Monthly Sales in {selected_year}\")\n",
    "\n",
    "        fig3 = px.bar(df_year.groupby(\"Vehicle_Type\")[\"Automobile_Sales\"].mean().reset_index(),\n",
    "                      x=\"Vehicle_Type\", y=\"Automobile_Sales\", title=f\"Avg Sales per Vehicle Type in {selected_year}\")\n",
    "\n",
    "        fig4 = px.pie(df_year.groupby(\"Vehicle_Type\")[\"Advertising_Expenditure\"].sum().reset_index(),\n",
    "                      names=\"Vehicle_Type\", values=\"Advertising_Expenditure\",\n",
    "                      title=f\"Ad Spend by Vehicle Type in {selected_year}\")\n",
    "    else:\n",
    "        df_rec = df[df[\"Recession\"] == 1]\n",
    "\n",
    "        fig1 = px.line(df_rec.groupby(\"Year\")[\"Automobile_Sales\"].mean().reset_index(),\n",
    "                       x=\"Year\", y=\"Automobile_Sales\", title=\"Sales During Recession (Year-wise)\")\n",
    "\n",
    "        fig2 = px.bar(df_rec.groupby(\"Vehicle_Type\")[\"Automobile_Sales\"].mean().reset_index(),\n",
    "                      x=\"Vehicle_Type\", y=\"Automobile_Sales\", title=\"Avg Sales by Vehicle Type During Recession\")\n",
    "\n",
    "        fig3 = px.pie(df_rec.groupby(\"Vehicle_Type\")[\"Advertising_Expenditure\"].sum().reset_index(),\n",
    "                      names=\"Vehicle_Type\", values=\"Advertising_Expenditure\",\n",
    "                      title=\"Ad Expenditure Share During Recession\")\n",
    "\n",
    "        fig4 = px.bar(df_rec.groupby(\"Vehicle_Type\")[\"unemployment_rate\"].mean().reset_index(),\n",
    "                      x=\"Vehicle_Type\", y=\"unemployment_rate\", title=\"Unemployment Rate by Vehicle Type\")\n",
    "\n",
    "    return fig1, fig2, fig3, fig4\n"
   ]
  },
  {
   "cell_type": "code",
   "execution_count": 13,
   "id": "bdb336c7-b21c-4524-ba99-fea8d0ff97e8",
   "metadata": {},
   "outputs": [
    {
     "data": {
      "text/html": [
       "\n",
       "        <iframe\n",
       "            width=\"100%\"\n",
       "            height=\"650\"\n",
       "            src=\"http://127.0.0.1:8050/\"\n",
       "            frameborder=\"0\"\n",
       "            allowfullscreen\n",
       "            \n",
       "        ></iframe>\n",
       "        "
      ],
      "text/plain": [
       "<IPython.lib.display.IFrame at 0x168bafe60>"
      ]
     },
     "metadata": {},
     "output_type": "display_data"
    }
   ],
   "source": [
    "app.run(debug=True)"
   ]
  }
 ],
 "metadata": {
  "kernelspec": {
   "display_name": "Python 3 (ipykernel)",
   "language": "python",
   "name": "python3"
  },
  "language_info": {
   "codemirror_mode": {
    "name": "ipython",
    "version": 3
   },
   "file_extension": ".py",
   "mimetype": "text/x-python",
   "name": "python",
   "nbconvert_exporter": "python",
   "pygments_lexer": "ipython3",
   "version": "3.12.7"
  }
 },
 "nbformat": 4,
 "nbformat_minor": 5
}
